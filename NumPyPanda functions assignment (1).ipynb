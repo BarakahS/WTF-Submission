{
 "cells": [
  {
   "cell_type": "markdown",
   "id": "9eee9477",
   "metadata": {},
   "source": [
    " #1 argpartition()\n",
    "\n",
    "Can find N largest values index. \n",
    "The output will be the N largest values index, and then we can sort the values if needed."
   ]
  },
  {
   "cell_type": "markdown",
   "id": "9855f482",
   "metadata": {},
   "source": [
    "#2 allclose()\n",
    "\n",
    "Allclose() is used for matching two arrays and getting the output in terms of a boolean value.\n",
    "It will return False if items in two arrays are not equal within a tolerance. \n",
    "It is a great way to check if two arrays are similar, which can actually be difficult to implement manually."
   ]
  },
  {
   "cell_type": "markdown",
   "id": "ceeb5421",
   "metadata": {},
   "source": [
    "#3 Clip()\n",
    "\n",
    "Clip() is used to keep values in an array within an interval. Sometimes, we need to keep the values within an upper and lower limit. For the mentioned purpose, we can make use of NumPy’s clip(). Given an interval, values outside the interval are clipped to the interval edges."
   ]
  },
  {
   "cell_type": "markdown",
   "id": "c1bcbe70",
   "metadata": {},
   "source": [
    "#4 extract()\n",
    "\n",
    "Extract() as the name goes, is used to extract specific elements from an array based on a certain condition. With extract(), we can also use conditions like and and or.b"
   ]
  },
  {
   "cell_type": "markdown",
   "id": "c2df92a3",
   "metadata": {},
   "source": [
    "#5  where()\n",
    "\n",
    "Where() is used to return elements from an array that satisfy a certain condition. \n",
    "It returns the index position of values that fall in a certain condition."
   ]
  },
  {
   "cell_type": "markdown",
   "id": "0a2001c2",
   "metadata": {},
   "source": [
    "#6  percentile()\n",
    "\n",
    "Percentile() is used to compute the nth percentile of the array elements along the specified axis"
   ]
  },
  {
   "cell_type": "markdown",
   "id": "bffb8b48",
   "metadata": {},
   "source": [
    "#7 read_csv(nrows=n)\n",
    "\n",
    "in a situation where we are unaware of the columns and the data present in a .csv file of 8gb, reading whole .csv file here would not be a smart decision because it would be the unnecessary use of our memory and would take a lot of time. We can just import a few rows from the .csv file and then proceed further as per our need."
   ]
  },
  {
   "cell_type": "markdown",
   "id": "88058c60",
   "metadata": {},
   "source": [
    "#8 map()\n",
    "\n",
    "The map() function is used to map values of Series according to input correspondence. Used for substituting each value in a Series with another value, that may be derived from a function, a dict or a Series."
   ]
  },
  {
   "cell_type": "markdown",
   "id": "be3049c4",
   "metadata": {},
   "source": [
    "#9 apply()\n",
    "\n",
    "The apply() allows the users to pass a function and apply it on every single value of the Pandas series"
   ]
  },
  {
   "cell_type": "markdown",
   "id": "0e2f1af6",
   "metadata": {},
   "source": [
    "#10 isin()\n",
    "\n",
    "The isin() is used to filter data frames. isin() helps in selecting rows with having a particular(or Multiple) value in a particular column"
   ]
  },
  {
   "cell_type": "markdown",
   "id": "a8df2d26",
   "metadata": {},
   "source": [
    "#11 copy()\n",
    "\n",
    "The copy() is used to create a copy of a Pandas object. When you assign a data frame to another data frame, its value changes when you make changes in the other one. To prevent the mentioned issue, we can make use of copy()."
   ]
  },
  {
   "cell_type": "markdown",
   "id": "8244476d",
   "metadata": {},
   "source": [
    "#12  select_dtypes()\n",
    "\n",
    "The select_dtypes() function returns a subset of the data frame's columns based on the column dtypes. It may include or exclude all the columns that contain a specific data type."
   ]
  },
  {
   "cell_type": "markdown",
   "id": "8c7689a3",
   "metadata": {},
   "source": [
    "#13  pivot_table()\n",
    "\n",
    "If you hesitate to use groupby and want to extend its functionalities then you can very well use the pivot_table. If you’re aware of how pivot table works in excel, then it might be easier. Levels in the pivot table will be stored in MultiIndex objects (hierarchical indexes) on the index and columns of the result DataFrame."
   ]
  },
  {
   "cell_type": "markdown",
   "id": "c3c170d3",
   "metadata": {},
   "source": [
    "#14 ndarray.ndim\n",
    "\n",
    "refers to the number of axes in the current array."
   ]
  },
  {
   "cell_type": "markdown",
   "id": "21cdac65",
   "metadata": {},
   "source": [
    "#15 ndarray.shape \n",
    "\n",
    "defines the dimensions of the array. As mentioned earlier, \n",
    "NumPy uses the tuple of integers to indicate the size of arrays on each axis. This means that a matrix with n rows along m columns, shape is defined as (n,m). Its length of the shape tuple is equal to ndarray.ndim."
   ]
  },
  {
   "cell_type": "markdown",
   "id": "922a9e0a",
   "metadata": {},
   "source": [
    "#16 ndarray.size \n",
    "\n",
    "counts the number of elements that make up the array. It will be equal to the product of the individual elements in ndarray.shape."
   ]
  },
  {
   "cell_type": "markdown",
   "id": "d28d5db3",
   "metadata": {},
   "source": [
    "#17 ndarray.dtype \n",
    "\n",
    "describes the elements located in the array using standard Python element types or NumPy's special types, such as numpy.in32 or numpy.float64."
   ]
  },
  {
   "cell_type": "markdown",
   "id": "98bc72ef",
   "metadata": {},
   "source": [
    "#18 ndarray.itemsize \n",
    "\n",
    "refers to the size of each element in the array, measured in bytes. This is how you determine how much NumPy has actually saved you in terms of storage space."
   ]
  },
  {
   "cell_type": "markdown",
   "id": "901ff5b7",
   "metadata": {},
   "source": [
    "#19  np.sort()\n",
    "\n",
    "creates new NumPy array in ascending order"
   ]
  },
  {
   "cell_type": "markdown",
   "id": "8bbdc672",
   "metadata": {},
   "source": [
    "#20 values()\n",
    "\n",
    "Returns the actual data in the DataFrame as an NDarray."
   ]
  },
  {
   "cell_type": "markdown",
   "id": "44e279b9",
   "metadata": {},
   "source": [
    "#21 ndim()\n",
    "\n",
    "Returns the number of dimensions of the object. By definition, a Series is a 1D data structure, so it returns "
   ]
  },
  {
   "cell_type": "markdown",
   "id": "3bf6ca4d",
   "metadata": {},
   "source": [
    "#22 head()\n",
    "\n",
    "Returns the first n rows."
   ]
  },
  {
   "cell_type": "markdown",
   "id": "dfd65194",
   "metadata": {},
   "source": [
    "#23  tail()\n",
    "\n",
    "Returns the last n rows."
   ]
  },
  {
   "cell_type": "markdown",
   "id": "54d22973",
   "metadata": {},
   "source": [
    "#24 axes()\n",
    "\n",
    "Returns a list of the row axis labels"
   ]
  },
  {
   "cell_type": "markdown",
   "id": "fcf58a82",
   "metadata": {},
   "source": [
    "#25\tdtype()\n",
    "\n",
    "Returns the dtype of the object."
   ]
  },
  {
   "cell_type": "markdown",
   "id": "e97b4b28",
   "metadata": {},
   "source": [
    "#26 empty()\n",
    "\n",
    "Returns True if series is empty."
   ]
  },
  {
   "cell_type": "markdown",
   "id": "350eb263",
   "metadata": {},
   "source": [
    "#27 s.astype()\t\n",
    "\n",
    "Convert column data type"
   ]
  },
  {
   "cell_type": "markdown",
   "id": "7ca43826",
   "metadata": {},
   "source": [
    "#28 s.apply()\n",
    "\n",
    "Invoke function on values of Series"
   ]
  },
  {
   "cell_type": "markdown",
   "id": "668baef8",
   "metadata": {},
   "source": [
    "#29 df.apply()\t\n",
    "\n",
    "Apply a function along an axis of the DataFrame"
   ]
  },
  {
   "cell_type": "markdown",
   "id": "23321169",
   "metadata": {},
   "source": [
    "#30 df.explode()\n",
    "\n",
    "Transform each element of a list-like to a row, replicating the index values"
   ]
  }
 ],
 "metadata": {
  "kernelspec": {
   "display_name": "Python 3 (ipykernel)",
   "language": "python",
   "name": "python3"
  },
  "language_info": {
   "codemirror_mode": {
    "name": "ipython",
    "version": 3
   },
   "file_extension": ".py",
   "mimetype": "text/x-python",
   "name": "python",
   "nbconvert_exporter": "python",
   "pygments_lexer": "ipython3",
   "version": "3.9.7"
  }
 },
 "nbformat": 4,
 "nbformat_minor": 5
}
