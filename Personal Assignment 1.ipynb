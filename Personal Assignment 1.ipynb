{
 "cells": [
  {
   "cell_type": "code",
   "execution_count": 1,
   "id": "5e5c30a6",
   "metadata": {},
   "outputs": [
    {
     "name": "stdout",
     "output_type": "stream",
     "text": [
      "67\n",
      "90\n",
      "45\n",
      "100\n",
      "-80\n",
      "560\n"
     ]
    }
   ],
   "source": [
    "#1 print all elements of a list using for loop\n",
    "\n",
    "my_list = [67, 90, 45, 100,-80, 560]\n",
    "for a in my_list:\n",
    "    print(a)"
   ]
  },
  {
   "cell_type": "code",
   "execution_count": null,
   "id": "395376d9",
   "metadata": {},
   "outputs": [],
   "source": [
    "#2 print net bonus amount\n",
    "\n",
    "salaries = int(input(\"enter salary value:\"))\n",
    "\n",
    "years =  int(input(\"enter years:\"))\n",
    "\n",
    "bonus = years / 100 * salaries\n",
    "\n",
    "if years >= 5:\n",
    "             print(\"your bonus is:\", bonus)\n",
    "else:\n",
    "    print(\"you do not have a bonus\")\n",
    "\n",
    "print(bonus)               "
   ]
  },
  {
   "cell_type": "code",
   "execution_count": null,
   "id": "b6838442",
   "metadata": {},
   "outputs": [],
   "source": [
    "#3 take input of age of 3 people and determine oldest and youngest of them\n",
    "\n",
    "ages = [35, 70, 24]\n",
    "if a < 70:\n",
    "    print(min(ages))\n",
    "    print(max(ages))"
   ]
  },
  {
   "cell_type": "code",
   "execution_count": 75,
   "id": "d573a2f2",
   "metadata": {},
   "outputs": [
    {
     "name": "stdout",
     "output_type": "stream",
     "text": [
      "enter your score34\n",
      "grade = e\n",
      "34\n"
     ]
    }
   ],
   "source": [
    "#4/5 enter marks and print corresponding scores\n",
    "\n",
    "scores = int(input(\"enter your score\"))\n",
    "if scores < 25:\n",
    "    print(\"grade\", \"=\" ,\"f\")\n",
    "    \n",
    "elif scores >= 25 and scores < 45:\n",
    "        print(\"grade\",\"=\",\"e\")\n",
    "        \n",
    "elif scores >= 45 and scores < 50:\n",
    "        print(\"grade\", \"=\", \"d\")\n",
    "        \n",
    "elif scores >= 50 and scores < 60:\n",
    "     print(\"grade\", \"=\", \"c\")\n",
    "        \n",
    "elif scores  >= 60 and scores < 80:\n",
    "     print(\"grade\", \"=\", \"b\")\n",
    "        \n",
    "else:\n",
    "     print(\"grade\", \"=\", \"a\")\n",
    "        \n",
    "        \n",
    "        \n",
    "print(scores)"
   ]
  },
  {
   "cell_type": "code",
   "execution_count": 29,
   "id": "fb5d31dd",
   "metadata": {},
   "outputs": [
    {
     "name": "stdout",
     "output_type": "stream",
     "text": [
      "{'salma': 56, 'tola': 68, 'aramide': 90, 'augusta': 70, 'belinda': 79, 'anekwe': 50}\n"
     ]
    }
   ],
   "source": [
    "#6 wrrite a python program to merge two dictionaries\n",
    "dict_1 = {\"salma\":56, \"tola\": 68, \"aramide\": 90}\n",
    "dict_2 = {\"augusta\":70, \"belinda\": 79, \"anekwe\": 50}\n",
    "\n",
    "merged_dicts = dict_1.copy()\n",
    "merged_dicts.update(dict_2)\n",
    "print(merged_dicts)"
   ]
  },
  {
   "cell_type": "code",
   "execution_count": 32,
   "id": "96dd5325",
   "metadata": {},
   "outputs": [
    {
     "name": "stdout",
     "output_type": "stream",
     "text": [
      "8997\n"
     ]
    }
   ],
   "source": [
    "#7 write a python program to get the largest number from a list\n",
    "\n",
    "mylist = [6776, 694, 6084, 2344, 6083, 8997]\n",
    "if a > 694:\n",
    "    print(max(mylist))"
   ]
  },
  {
   "cell_type": "code",
   "execution_count": 41,
   "id": "4164ae94",
   "metadata": {},
   "outputs": [
    {
     "name": "stdout",
     "output_type": "stream",
     "text": [
      "{'salma': 56, 'aramide': 90, 'augusta': 70, 'belinda': 79, 'anekwe': 50}\n"
     ]
    }
   ],
   "source": [
    "#8 write a python program to remove key from a dictionary\n",
    "\n",
    "mydict = {'salma': 56, 'tola': 68, 'aramide': 90, 'augusta': 70, 'belinda': 79, 'anekwe': 50}\n",
    "mydict.pop(\"tola\")\n",
    "print(mydict)"
   ]
  },
  {
   "cell_type": "code",
   "execution_count": null,
   "id": "7de12f18",
   "metadata": {},
   "outputs": [],
   "source": []
  }
 ],
 "metadata": {
  "kernelspec": {
   "display_name": "Python 3 (ipykernel)",
   "language": "python",
   "name": "python3"
  },
  "language_info": {
   "codemirror_mode": {
    "name": "ipython",
    "version": 3
   },
   "file_extension": ".py",
   "mimetype": "text/x-python",
   "name": "python",
   "nbconvert_exporter": "python",
   "pygments_lexer": "ipython3",
   "version": "3.9.7"
  }
 },
 "nbformat": 4,
 "nbformat_minor": 5
}
